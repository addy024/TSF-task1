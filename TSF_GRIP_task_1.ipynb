{
  "nbformat": 4,
  "nbformat_minor": 0,
  "metadata": {
    "colab": {
      "name": "TSF GRIP task 1.ipynb",
      "provenance": [],
      "collapsed_sections": []
    },
    "kernelspec": {
      "name": "python3",
      "display_name": "Python 3"
    },
    "language_info": {
      "name": "python"
    }
  },
  "cells": [
    {
      "cell_type": "markdown",
      "metadata": {
        "id": "Xawycuir_vGW"
      },
      "source": [
        "#**Data Science And Business Analytics Internship** \n",
        "## **The Sparks Foundation Task 1** \n",
        "> **Prediction using Supervised Machine Learning**\n",
        "\n",
        ">Simple Linear regression "
      ]
    },
    {
      "cell_type": "markdown",
      "metadata": {
        "id": "F-KyqNogBEJa"
      },
      "source": [
        "## Author: Aditya Phulallwar"
      ]
    },
    {
      "cell_type": "markdown",
      "metadata": {
        "id": "dO2qzHA_Ah3M"
      },
      "source": [
        "### **Problem Definition :**\n",
        "  >Predict the percentage of an student based on the no. of the study hours. What will be predicted score if a student studies for 9.25 hrs/ day ?"
      ]
    },
    {
      "cell_type": "markdown",
      "metadata": {
        "id": "rq-kQ1SL_uQn"
      },
      "source": [
        "###**Data :**\n",
        "\n",
        ">Dataset is available at : http://bit.ly/w-data "
      ]
    },
    {
      "cell_type": "markdown",
      "metadata": {
        "id": "yL6LcQQxBy6n"
      },
      "source": [
        "### **Evaluation**\n",
        ">For this problem,R^2, mean absolute error and mean squared error will be used. As with many regression evaluations, the goal will be to get this value as low as possible."
      ]
    },
    {
      "cell_type": "markdown",
      "metadata": {
        "id": "C7bSoCsVEPF_"
      },
      "source": [
        "####**With, all of this being known, let's get started!**\n",
        "\n",
        "####**First, we'll import the data set and start exploring.** "
      ]
    },
    {
      "cell_type": "markdown",
      "metadata": {
        "id": "46blEgmsEu-o"
      },
      "source": [
        "### **Importing the data and preparing it for modeling**"
      ]
    },
    {
      "cell_type": "code",
      "metadata": {
        "id": "4pP1jB74BXNK"
      },
      "source": [
        "# Importing the libraries\n",
        "%matplotlib inline\n",
        "import numpy as np\n",
        "import pandas as pd\n",
        "import seaborn as sns\n",
        "import matplotlib.pyplot as plt\n",
        "import warnings\n",
        "warnings.filterwarnings('ignore')\n",
        "\n"
      ],
      "execution_count": 1,
      "outputs": []
    },
    {
      "cell_type": "code",
      "metadata": {
        "id": "I4_00uDpFgKs"
      },
      "source": [
        "## Importing the data\n",
        "df = pd.read_csv('http://bit.ly/w-data')"
      ],
      "execution_count": 2,
      "outputs": []
    },
    {
      "cell_type": "code",
      "metadata": {
        "colab": {
          "base_uri": "https://localhost:8080/",
          "height": 202
        },
        "id": "Df_DlQqmFvGy",
        "outputId": "940e93cf-2893-410d-a1d4-878a8534c026"
      },
      "source": [
        "# Displaying the data\n",
        "df.head()"
      ],
      "execution_count": 3,
      "outputs": [
        {
          "output_type": "execute_result",
          "data": {
            "text/html": [
              "<div>\n",
              "<style scoped>\n",
              "    .dataframe tbody tr th:only-of-type {\n",
              "        vertical-align: middle;\n",
              "    }\n",
              "\n",
              "    .dataframe tbody tr th {\n",
              "        vertical-align: top;\n",
              "    }\n",
              "\n",
              "    .dataframe thead th {\n",
              "        text-align: right;\n",
              "    }\n",
              "</style>\n",
              "<table border=\"1\" class=\"dataframe\">\n",
              "  <thead>\n",
              "    <tr style=\"text-align: right;\">\n",
              "      <th></th>\n",
              "      <th>Hours</th>\n",
              "      <th>Scores</th>\n",
              "    </tr>\n",
              "  </thead>\n",
              "  <tbody>\n",
              "    <tr>\n",
              "      <th>0</th>\n",
              "      <td>2.5</td>\n",
              "      <td>21</td>\n",
              "    </tr>\n",
              "    <tr>\n",
              "      <th>1</th>\n",
              "      <td>5.1</td>\n",
              "      <td>47</td>\n",
              "    </tr>\n",
              "    <tr>\n",
              "      <th>2</th>\n",
              "      <td>3.2</td>\n",
              "      <td>27</td>\n",
              "    </tr>\n",
              "    <tr>\n",
              "      <th>3</th>\n",
              "      <td>8.5</td>\n",
              "      <td>75</td>\n",
              "    </tr>\n",
              "    <tr>\n",
              "      <th>4</th>\n",
              "      <td>3.5</td>\n",
              "      <td>30</td>\n",
              "    </tr>\n",
              "  </tbody>\n",
              "</table>\n",
              "</div>"
            ],
            "text/plain": [
              "   Hours  Scores\n",
              "0    2.5      21\n",
              "1    5.1      47\n",
              "2    3.2      27\n",
              "3    8.5      75\n",
              "4    3.5      30"
            ]
          },
          "metadata": {
            "tags": []
          },
          "execution_count": 3
        }
      ]
    },
    {
      "cell_type": "markdown",
      "metadata": {
        "id": "41YRDYy1GDeT"
      },
      "source": [
        "###**Analysing the Data**"
      ]
    },
    {
      "cell_type": "code",
      "metadata": {
        "colab": {
          "base_uri": "https://localhost:8080/"
        },
        "id": "Xd8xGIARFzkS",
        "outputId": "5c2aa17e-b98f-4914-eddb-9c16ce95bced"
      },
      "source": [
        "df.shape"
      ],
      "execution_count": 4,
      "outputs": [
        {
          "output_type": "execute_result",
          "data": {
            "text/plain": [
              "(25, 2)"
            ]
          },
          "metadata": {
            "tags": []
          },
          "execution_count": 4
        }
      ]
    },
    {
      "cell_type": "code",
      "metadata": {
        "colab": {
          "base_uri": "https://localhost:8080/",
          "height": 295
        },
        "id": "W17ZVc00JKeC",
        "outputId": "f60a61c0-cf8e-4d93-e1c4-c9168b774db7"
      },
      "source": [
        "df.describe()"
      ],
      "execution_count": 5,
      "outputs": [
        {
          "output_type": "execute_result",
          "data": {
            "text/html": [
              "<div>\n",
              "<style scoped>\n",
              "    .dataframe tbody tr th:only-of-type {\n",
              "        vertical-align: middle;\n",
              "    }\n",
              "\n",
              "    .dataframe tbody tr th {\n",
              "        vertical-align: top;\n",
              "    }\n",
              "\n",
              "    .dataframe thead th {\n",
              "        text-align: right;\n",
              "    }\n",
              "</style>\n",
              "<table border=\"1\" class=\"dataframe\">\n",
              "  <thead>\n",
              "    <tr style=\"text-align: right;\">\n",
              "      <th></th>\n",
              "      <th>Hours</th>\n",
              "      <th>Scores</th>\n",
              "    </tr>\n",
              "  </thead>\n",
              "  <tbody>\n",
              "    <tr>\n",
              "      <th>count</th>\n",
              "      <td>25.000000</td>\n",
              "      <td>25.000000</td>\n",
              "    </tr>\n",
              "    <tr>\n",
              "      <th>mean</th>\n",
              "      <td>5.012000</td>\n",
              "      <td>51.480000</td>\n",
              "    </tr>\n",
              "    <tr>\n",
              "      <th>std</th>\n",
              "      <td>2.525094</td>\n",
              "      <td>25.286887</td>\n",
              "    </tr>\n",
              "    <tr>\n",
              "      <th>min</th>\n",
              "      <td>1.100000</td>\n",
              "      <td>17.000000</td>\n",
              "    </tr>\n",
              "    <tr>\n",
              "      <th>25%</th>\n",
              "      <td>2.700000</td>\n",
              "      <td>30.000000</td>\n",
              "    </tr>\n",
              "    <tr>\n",
              "      <th>50%</th>\n",
              "      <td>4.800000</td>\n",
              "      <td>47.000000</td>\n",
              "    </tr>\n",
              "    <tr>\n",
              "      <th>75%</th>\n",
              "      <td>7.400000</td>\n",
              "      <td>75.000000</td>\n",
              "    </tr>\n",
              "    <tr>\n",
              "      <th>max</th>\n",
              "      <td>9.200000</td>\n",
              "      <td>95.000000</td>\n",
              "    </tr>\n",
              "  </tbody>\n",
              "</table>\n",
              "</div>"
            ],
            "text/plain": [
              "           Hours     Scores\n",
              "count  25.000000  25.000000\n",
              "mean    5.012000  51.480000\n",
              "std     2.525094  25.286887\n",
              "min     1.100000  17.000000\n",
              "25%     2.700000  30.000000\n",
              "50%     4.800000  47.000000\n",
              "75%     7.400000  75.000000\n",
              "max     9.200000  95.000000"
            ]
          },
          "metadata": {
            "tags": []
          },
          "execution_count": 5
        }
      ]
    },
    {
      "cell_type": "code",
      "metadata": {
        "colab": {
          "base_uri": "https://localhost:8080/"
        },
        "id": "1TKhB6nUJL6h",
        "outputId": "7aa63a7f-24c8-4107-fc27-bc6f6786f0b6"
      },
      "source": [
        "# checking dtype of each column in data frame\n",
        "df.info()"
      ],
      "execution_count": 15,
      "outputs": [
        {
          "output_type": "stream",
          "text": [
            "<class 'pandas.core.frame.DataFrame'>\n",
            "RangeIndex: 25 entries, 0 to 24\n",
            "Data columns (total 2 columns):\n",
            " #   Column  Non-Null Count  Dtype  \n",
            "---  ------  --------------  -----  \n",
            " 0   Hours   25 non-null     float64\n",
            " 1   Scores  25 non-null     int64  \n",
            "dtypes: float64(1), int64(1)\n",
            "memory usage: 528.0 bytes\n"
          ],
          "name": "stdout"
        }
      ]
    },
    {
      "cell_type": "code",
      "metadata": {
        "colab": {
          "base_uri": "https://localhost:8080/"
        },
        "id": "j_AZqkrkJQhx",
        "outputId": "f297f1a5-0c25-4cee-d52e-01e96e4cc874"
      },
      "source": [
        "#Checking for missing values\n",
        "df.isna().sum()"
      ],
      "execution_count": 16,
      "outputs": [
        {
          "output_type": "execute_result",
          "data": {
            "text/plain": [
              "Hours     0\n",
              "Scores    0\n",
              "dtype: int64"
            ]
          },
          "metadata": {
            "tags": []
          },
          "execution_count": 16
        }
      ]
    },
    {
      "cell_type": "markdown",
      "metadata": {
        "id": "c_g5N0jzKD6M"
      },
      "source": [
        "### **As There is no missing values and values are numerical we can do some visualization**"
      ]
    },
    {
      "cell_type": "code",
      "metadata": {
        "colab": {
          "base_uri": "https://localhost:8080/",
          "height": 404
        },
        "id": "i12GBRapJSdJ",
        "outputId": "322103a7-18c1-43e1-b392-57c4dbb8e5ab"
      },
      "source": [
        "fig, ax = plt.subplots(figsize = (10, 6))\n",
        "\n",
        "# Plot the data\n",
        "scatter = ax.scatter(df[\"Hours\"],\n",
        "                     df[\"Scores\"]);\n",
        "\n",
        "# Customize the plot\n",
        "ax.set(title = \"Percentage of an student based on the no. of stufy hours\",\n",
        "       xlabel = \"No. of Hours\", \n",
        "       ylabel = \"Percentage %\");\n",
        "\n"
      ],
      "execution_count": 28,
      "outputs": [
        {
          "output_type": "display_data",
          "data": {
            "image/png": "[encoded data removed]",
            "text/plain": [
              "<Figure size 720x432 with 1 Axes>"
            ]
          },
          "metadata": {
            "tags": [],
            "needs_background": "light"
          }
        }
      ]
    },
    {
      "cell_type": "markdown",
      "metadata": {
        "id": "RbEBPLMZO0Wu"
      },
      "source": [
        "From the above graph we can clearly see that when the hours of study is less then the percentage score is also less. Therefore it follows a positive linear relationship."
      ]
    },
    {
      "cell_type": "markdown",
      "metadata": {
        "id": "2RzGTwPIQCpr"
      },
      "source": [
        "### Preparing the data\n",
        ">Here the data is to be divided into attributes and labels. Attributes is the input varibale which in this case **Hours**. Label is the output variable in this case **Scores**."
      ]
    },
    {
      "cell_type": "code",
      "metadata": {
        "id": "hEj7yYw8KZ5H"
      },
      "source": [
        "X = df.iloc[:, :-1]"
      ],
      "execution_count": 29,
      "outputs": []
    },
    {
      "cell_type": "code",
      "metadata": {
        "id": "2tW-JduYQmbF"
      },
      "source": [
        "y = df.iloc[:, -1]"
      ],
      "execution_count": 31,
      "outputs": []
    },
    {
      "cell_type": "code",
      "metadata": {
        "colab": {
          "base_uri": "https://localhost:8080/",
          "height": 202
        },
        "id": "VXeccgjYQopJ",
        "outputId": "bb266930-9d61-4e6c-dd29-d5e01cc361fb"
      },
      "source": [
        "X.head()"
      ],
      "execution_count": 61,
      "outputs": [
        {
          "output_type": "execute_result",
          "data": {
            "text/html": [
              "<div>\n",
              "<style scoped>\n",
              "    .dataframe tbody tr th:only-of-type {\n",
              "        vertical-align: middle;\n",
              "    }\n",
              "\n",
              "    .dataframe tbody tr th {\n",
              "        vertical-align: top;\n",
              "    }\n",
              "\n",
              "    .dataframe thead th {\n",
              "        text-align: right;\n",
              "    }\n",
              "</style>\n",
              "<table border=\"1\" class=\"dataframe\">\n",
              "  <thead>\n",
              "    <tr style=\"text-align: right;\">\n",
              "      <th></th>\n",
              "      <th>Hours</th>\n",
              "    </tr>\n",
              "  </thead>\n",
              "  <tbody>\n",
              "    <tr>\n",
              "      <th>0</th>\n",
              "      <td>2.5</td>\n",
              "    </tr>\n",
              "    <tr>\n",
              "      <th>1</th>\n",
              "      <td>5.1</td>\n",
              "    </tr>\n",
              "    <tr>\n",
              "      <th>2</th>\n",
              "      <td>3.2</td>\n",
              "    </tr>\n",
              "    <tr>\n",
              "      <th>3</th>\n",
              "      <td>8.5</td>\n",
              "    </tr>\n",
              "    <tr>\n",
              "      <th>4</th>\n",
              "      <td>3.5</td>\n",
              "    </tr>\n",
              "  </tbody>\n",
              "</table>\n",
              "</div>"
            ],
            "text/plain": [
              "   Hours\n",
              "0    2.5\n",
              "1    5.1\n",
              "2    3.2\n",
              "3    8.5\n",
              "4    3.5"
            ]
          },
          "metadata": {
            "tags": []
          },
          "execution_count": 61
        }
      ]
    },
    {
      "cell_type": "code",
      "metadata": {
        "colab": {
          "base_uri": "https://localhost:8080/"
        },
        "id": "mDZKWu_7QtII",
        "outputId": "92fc9cc6-9321-47c7-8734-318f99424839"
      },
      "source": [
        "y.head()"
      ],
      "execution_count": 62,
      "outputs": [
        {
          "output_type": "execute_result",
          "data": {
            "text/plain": [
              "0    21\n",
              "1    47\n",
              "2    27\n",
              "3    75\n",
              "4    30\n",
              "Name: Scores, dtype: int64"
            ]
          },
          "metadata": {
            "tags": []
          },
          "execution_count": 62
        }
      ]
    },
    {
      "cell_type": "markdown",
      "metadata": {
        "id": "82SXo4ssQy5a"
      },
      "source": [
        "### **Spliting into test train split**"
      ]
    },
    {
      "cell_type": "code",
      "metadata": {
        "id": "KAk42E1bQvnQ"
      },
      "source": [
        "from sklearn.model_selection import train_test_split\n",
        "\n",
        "X_train, X_test, y_train, y_test = train_test_split(X, y, test_size = 0.2, random_state = 42)"
      ],
      "execution_count": 35,
      "outputs": []
    },
    {
      "cell_type": "markdown",
      "metadata": {
        "id": "cWVUJ90fSwro"
      },
      "source": [
        "### **Choosing the model**"
      ]
    },
    {
      "cell_type": "code",
      "metadata": {
        "id": "2-1yKdt6RPMZ"
      },
      "source": [
        "# We will use Linear Regression\n",
        "from sklearn.linear_model import LinearRegression\n",
        "regressor = LinearRegression()"
      ],
      "execution_count": 37,
      "outputs": []
    },
    {
      "cell_type": "markdown",
      "metadata": {
        "id": "Ymg-XAlWTJeu"
      },
      "source": [
        "### **Fitting the model**"
      ]
    },
    {
      "cell_type": "code",
      "metadata": {
        "colab": {
          "base_uri": "https://localhost:8080/"
        },
        "id": "G2y7TzPUTBkp",
        "outputId": "01b56906-271b-477a-cd4d-fae5128eac60"
      },
      "source": [
        "regressor.fit(X_train, y_train)"
      ],
      "execution_count": 38,
      "outputs": [
        {
          "output_type": "execute_result",
          "data": {
            "text/plain": [
              "LinearRegression(copy_X=True, fit_intercept=True, n_jobs=None, normalize=False)"
            ]
          },
          "metadata": {
            "tags": []
          },
          "execution_count": 38
        }
      ]
    },
    {
      "cell_type": "code",
      "metadata": {
        "colab": {
          "base_uri": "https://localhost:8080/",
          "height": 265
        },
        "id": "Jw-DBoYfTXNZ",
        "outputId": "0a6d1d8c-e953-4eed-9ef3-9ba18b093ed1"
      },
      "source": [
        "# Plotting the regression line\n",
        "line = regressor.coef_ * X + regressor.intercept_\n",
        "\n",
        "# Plotting for the test data\n",
        "plt.scatter(X, y)\n",
        "plt.plot(X, line)\n",
        "plt.show();"
      ],
      "execution_count": 39,
      "outputs": [
        {
          "output_type": "display_data",
          "data": {
            "image/png": "[encoded data removed]",
            "text/plain": [
              "<Figure size 432x288 with 1 Axes>"
            ]
          },
          "metadata": {
            "tags": [],
            "needs_background": "light"
          }
        }
      ]
    },
    {
      "cell_type": "markdown",
      "metadata": {
        "id": "C77S1cHoT6zI"
      },
      "source": [
        "### **Use the model to make a prediction**\n"
      ]
    },
    {
      "cell_type": "code",
      "metadata": {
        "id": "klwI6wcFTzeZ"
      },
      "source": [
        "# Predicting the scores - In % using Testing data - In Hours\n",
        "y_pred = regressor.predict(X_test) "
      ],
      "execution_count": 40,
      "outputs": []
    },
    {
      "cell_type": "markdown",
      "metadata": {
        "id": "W04fQkBeWdKi"
      },
      "source": [
        "### **Evaluating the model**"
      ]
    },
    {
      "cell_type": "markdown",
      "metadata": {
        "id": "bHscRZrOW0h2"
      },
      "source": [
        "#### **R^2 Score (coefficient of determination)**\n",
        ">The default evaluation metric in the score() function is R^2."
      ]
    },
    {
      "cell_type": "code",
      "metadata": {
        "colab": {
          "base_uri": "https://localhost:8080/"
        },
        "id": "SCegY7_3UW5m",
        "outputId": "4fe3b529-224c-4ab8-b926-c909be25e832"
      },
      "source": [
        "# Calculate the models R^2 score\n",
        "regressor.score(X_test, y_test)"
      ],
      "execution_count": 43,
      "outputs": [
        {
          "output_type": "execute_result",
          "data": {
            "text/plain": [
              "0.9678055545167994"
            ]
          },
          "metadata": {
            "tags": []
          },
          "execution_count": 43
        }
      ]
    },
    {
      "cell_type": "markdown",
      "metadata": {
        "id": "HCMUj34UXU_j"
      },
      "source": [
        "#### Mean absolute error (MAE)"
      ]
    },
    {
      "cell_type": "code",
      "metadata": {
        "colab": {
          "base_uri": "https://localhost:8080/"
        },
        "id": "03XIzjo6U0g7",
        "outputId": "999a3a16-793d-4b6e-9d1f-e8466f5f7270"
      },
      "source": [
        "from sklearn.metrics import mean_absolute_error\n",
        "\n",
        "mae = mean_absolute_error(y_test, y_pred)\n",
        "mae"
      ],
      "execution_count": 44,
      "outputs": [
        {
          "output_type": "execute_result",
          "data": {
            "text/plain": [
              "3.9207511902099244"
            ]
          },
          "metadata": {
            "tags": []
          },
          "execution_count": 44
        }
      ]
    },
    {
      "cell_type": "markdown",
      "metadata": {
        "id": "zMGXD-HsXs0d"
      },
      "source": [
        "**Note: Our model achieves an MAE of 3.931. This means, on average our models predictions are 3.931 % units away from the actual value.**"
      ]
    },
    {
      "cell_type": "code",
      "metadata": {
        "colab": {
          "base_uri": "https://localhost:8080/",
          "height": 202
        },
        "id": "bFvgOZ2jXpUn",
        "outputId": "ff224657-ef8a-4cf5-c725-d1c876a7ec4a"
      },
      "source": [
        "# Let's make it a little more visual.\n",
        "df_av_pd = pd.DataFrame(data = {\n",
        "    \"Actual Values\": y_test,\n",
        "    \"Predictions\": y_pred\n",
        "})\n",
        "df_ac_pd"
      ],
      "execution_count": 45,
      "outputs": [
        {
          "output_type": "execute_result",
          "data": {
            "text/html": [
              "<div>\n",
              "<style scoped>\n",
              "    .dataframe tbody tr th:only-of-type {\n",
              "        vertical-align: middle;\n",
              "    }\n",
              "\n",
              "    .dataframe tbody tr th {\n",
              "        vertical-align: top;\n",
              "    }\n",
              "\n",
              "    .dataframe thead th {\n",
              "        text-align: right;\n",
              "    }\n",
              "</style>\n",
              "<table border=\"1\" class=\"dataframe\">\n",
              "  <thead>\n",
              "    <tr style=\"text-align: right;\">\n",
              "      <th></th>\n",
              "      <th>Actual</th>\n",
              "      <th>Predicted</th>\n",
              "    </tr>\n",
              "  </thead>\n",
              "  <tbody>\n",
              "    <tr>\n",
              "      <th>8</th>\n",
              "      <td>81</td>\n",
              "      <td>83.188141</td>\n",
              "    </tr>\n",
              "    <tr>\n",
              "      <th>16</th>\n",
              "      <td>30</td>\n",
              "      <td>27.032088</td>\n",
              "    </tr>\n",
              "    <tr>\n",
              "      <th>0</th>\n",
              "      <td>21</td>\n",
              "      <td>27.032088</td>\n",
              "    </tr>\n",
              "    <tr>\n",
              "      <th>23</th>\n",
              "      <td>76</td>\n",
              "      <td>69.633232</td>\n",
              "    </tr>\n",
              "    <tr>\n",
              "      <th>11</th>\n",
              "      <td>62</td>\n",
              "      <td>59.951153</td>\n",
              "    </tr>\n",
              "  </tbody>\n",
              "</table>\n",
              "</div>"
            ],
            "text/plain": [
              "    Actual  Predicted\n",
              "8       81  83.188141\n",
              "16      30  27.032088\n",
              "0       21  27.032088\n",
              "23      76  69.633232\n",
              "11      62  59.951153"
            ]
          },
          "metadata": {
            "tags": []
          },
          "execution_count": 45
        }
      ]
    },
    {
      "cell_type": "code",
      "metadata": {
        "colab": {
          "base_uri": "https://localhost:8080/",
          "height": 265
        },
        "id": "aZnrPqavYZYa",
        "outputId": "7d25fea8-787c-47d1-b7f2-eb3ad83d50ce"
      },
      "source": [
        "fig, ax = plt.subplots()\n",
        "ax.scatter(X_test, df_av_pd[\"Actual Values\"], c = \"b\", label = \"Actual Values\")\n",
        "ax.scatter(X_test, df_ac_pd[\"Predicted\"], c = \"r\", label = \"Predictions\")\n",
        "ax.legend();"
      ],
      "execution_count": 47,
      "outputs": [
        {
          "output_type": "display_data",
          "data": {
            "image/png": "[encoded data removed]",
            "text/plain": [
              "<Figure size 432x288 with 1 Axes>"
            ]
          },
          "metadata": {
            "tags": [],
            "needs_background": "light"
          }
        }
      ]
    },
    {
      "cell_type": "markdown",
      "metadata": {
        "id": "-k2bXUf1ZZrL"
      },
      "source": [
        "#### **Mean Squared Error (MSE)**\n"
      ]
    },
    {
      "cell_type": "code",
      "metadata": {
        "colab": {
          "base_uri": "https://localhost:8080/"
        },
        "id": "c8ajIGv4ZH0N",
        "outputId": "7458743c-eab1-45a8-99cb-1c04a4a4ac2d"
      },
      "source": [
        "from sklearn.metrics import mean_squared_error\n",
        "\n",
        "mse = mean_squared_error(y_test, y_pred)\n",
        "mse"
      ],
      "execution_count": 48,
      "outputs": [
        {
          "output_type": "execute_result",
          "data": {
            "text/plain": [
              "18.943211722315272"
            ]
          },
          "metadata": {
            "tags": []
          },
          "execution_count": 48
        }
      ]
    },
    {
      "cell_type": "markdown",
      "metadata": {
        "id": "LIjhaXk4Z6ki"
      },
      "source": [
        "### **Predicting the percentage of a student who studies for 9.25 hrs/day**"
      ]
    },
    {
      "cell_type": "code",
      "metadata": {
        "colab": {
          "base_uri": "https://localhost:8080/"
        },
        "id": "rH-wlVs_Zpz5",
        "outputId": "e956b182-33e9-4fc1-a901-b338759784ab"
      },
      "source": [
        "hours = np.array([9.25])\n",
        "prediction = regressor.predict(hours.reshape(-1, 1))\n",
        "print(f'No of Hours = {hours[0]}')\n",
        "print('Predicted Score = {:.2f} %'.format(prediction[0]))"
      ],
      "execution_count": 58,
      "outputs": [
        {
          "output_type": "stream",
          "text": [
            "No of Hours = 9.25\n",
            "Predicted Score = 92.39 %\n"
          ],
          "name": "stdout"
        }
      ]
    },
    {
      "cell_type": "markdown",
      "metadata": {
        "id": "1-nD45E2cKxa"
      },
      "source": [
        "## **Using Linear Regression Model with 0.9678055545167994 and Mean Absolute Error of 3.931. We can say that**\n",
        "\n",
        ">***The student who study 9.25 hrs/day can score 92.39 %***"
      ]
    }
  ]
}